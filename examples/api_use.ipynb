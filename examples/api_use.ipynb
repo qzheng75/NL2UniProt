{
 "cells": [
  {
   "cell_type": "code",
   "execution_count": 1,
   "metadata": {},
   "outputs": [
    {
     "name": "stdout",
     "output_type": "stream",
     "text": [
      "/storage/ice1/0/9/qzheng75/NL2Prot_dev/NL2UniProt\n"
     ]
    }
   ],
   "source": [
    "from __future__ import annotations\n",
    "\n",
    "%cd ../"
   ]
  },
  {
   "cell_type": "code",
   "execution_count": 2,
   "metadata": {},
   "outputs": [
    {
     "name": "stderr",
     "output_type": "stream",
     "text": [
      "/home/hice1/qzheng75/scratch/miniconda3/envs/nl2prot/lib/python3.12/site-packages/tqdm/auto.py:21: TqdmWarning: IProgress not found. Please update jupyter and ipywidgets. See https://ipywidgets.readthedocs.io/en/stable/user_install.html\n",
      "  from .autonotebook import tqdm as notebook_tqdm\n",
      "Some weights of EsmModel were not initialized from the model checkpoint at facebook/esm2_t12_35M_UR50D and are newly initialized: ['esm.pooler.dense.bias', 'esm.pooler.dense.weight']\n",
      "You should probably TRAIN this model on a down-stream task to be able to use it for predictions and inference.\n",
      "/storage/ice1/0/9/qzheng75/NL2Prot_dev/NL2UniProt/src/nl2prot/trainer/base_trainer.py:123: FutureWarning: You are using `torch.load` with `weights_only=False` (the current default value), which uses the default pickle module implicitly. It is possible to construct malicious pickle data which will execute arbitrary code during unpickling (See https://github.com/pytorch/pytorch/blob/main/SECURITY.md#untrusted-models for more details). In a future release, the default value for `weights_only` will be flipped to `True`. This limits the functions that could be executed during unpickling. Arbitrary objects will no longer be allowed to be loaded via this mode unless they are explicitly allowlisted by the user via `torch.serialization.add_safe_globals`. We recommend you start setting `weights_only=True` for any use case where you don't have full control of the loaded file. Please open an issue on GitHub for any issues related to this experimental feature.\n",
      "  checkpoint = torch.load(checkpoint_path, map_location=self.device)\n",
      "/storage/ice1/0/9/qzheng75/NL2Prot_dev/NL2UniProt/src/nl2prot/trainer/base_trainer.py:134: UserWarning: Global training step not found in checkpoint. Maybe you're using an older version of this codebase. Report this issue if you're using the latest version.\n",
      "  warnings.warn(\n"
     ]
    }
   ],
   "source": [
    "from nl2prot.api import NL2ProtAPI\n",
    "\n",
    "api = NL2ProtAPI()"
   ]
  },
  {
   "cell_type": "code",
   "execution_count": 3,
   "metadata": {},
   "outputs": [],
   "source": [
    "description1 = (\n",
    "    \"I want a protein with a role in the process \"\n",
    "    + \"of adding sugar molecules to other proteins and being involved \"\n",
    "    + \"in preventing cell death.\"\n",
    ")\n",
    "description2 = (\n",
    "    \"I want a protein with a specific function in the \"\n",
    "    + \"process of creating phospholipids in cell membranes.\"\n",
    ")\n",
    "out = api.recommend_sequences([description1, description2])"
   ]
  },
  {
   "cell_type": "code",
   "execution_count": 6,
   "metadata": {},
   "outputs": [
    {
     "data": {
      "text/html": [
       "<div>\n",
       "<style scoped>\n",
       "    .dataframe tbody tr th:only-of-type {\n",
       "        vertical-align: middle;\n",
       "    }\n",
       "\n",
       "    .dataframe tbody tr th {\n",
       "        vertical-align: top;\n",
       "    }\n",
       "\n",
       "    .dataframe thead th {\n",
       "        text-align: right;\n",
       "    }\n",
       "</style>\n",
       "<table border=\"1\" class=\"dataframe\">\n",
       "  <thead>\n",
       "    <tr style=\"text-align: right;\">\n",
       "      <th></th>\n",
       "      <th>accession</th>\n",
       "      <th>distance</th>\n",
       "    </tr>\n",
       "  </thead>\n",
       "  <tbody>\n",
       "    <tr>\n",
       "      <th>0</th>\n",
       "      <td>P61803</td>\n",
       "      <td>0.801535</td>\n",
       "    </tr>\n",
       "    <tr>\n",
       "      <th>1</th>\n",
       "      <td>P04843</td>\n",
       "      <td>0.805584</td>\n",
       "    </tr>\n",
       "    <tr>\n",
       "      <th>2</th>\n",
       "      <td>P04844</td>\n",
       "      <td>0.842708</td>\n",
       "    </tr>\n",
       "    <tr>\n",
       "      <th>3</th>\n",
       "      <td>P61165</td>\n",
       "      <td>0.887468</td>\n",
       "    </tr>\n",
       "    <tr>\n",
       "      <th>4</th>\n",
       "      <td>P26572</td>\n",
       "      <td>0.904084</td>\n",
       "    </tr>\n",
       "    <tr>\n",
       "      <th>5</th>\n",
       "      <td>Q9UM21</td>\n",
       "      <td>0.910343</td>\n",
       "    </tr>\n",
       "    <tr>\n",
       "      <th>6</th>\n",
       "      <td>Q9UQ53</td>\n",
       "      <td>0.912914</td>\n",
       "    </tr>\n",
       "    <tr>\n",
       "      <th>7</th>\n",
       "      <td>P39656</td>\n",
       "      <td>0.928890</td>\n",
       "    </tr>\n",
       "    <tr>\n",
       "      <th>8</th>\n",
       "      <td>Q9H553</td>\n",
       "      <td>0.929999</td>\n",
       "    </tr>\n",
       "    <tr>\n",
       "      <th>9</th>\n",
       "      <td>Q8N6L1</td>\n",
       "      <td>0.930111</td>\n",
       "    </tr>\n",
       "    <tr>\n",
       "      <th>10</th>\n",
       "      <td>Q14442</td>\n",
       "      <td>0.934805</td>\n",
       "    </tr>\n",
       "    <tr>\n",
       "      <th>11</th>\n",
       "      <td>Q9H5V9</td>\n",
       "      <td>0.938053</td>\n",
       "    </tr>\n",
       "    <tr>\n",
       "      <th>12</th>\n",
       "      <td>O94777</td>\n",
       "      <td>0.941416</td>\n",
       "    </tr>\n",
       "    <tr>\n",
       "      <th>13</th>\n",
       "      <td>Q9Y2V7</td>\n",
       "      <td>0.943948</td>\n",
       "    </tr>\n",
       "    <tr>\n",
       "      <th>14</th>\n",
       "      <td>Q9NUD9</td>\n",
       "      <td>0.944001</td>\n",
       "    </tr>\n",
       "    <tr>\n",
       "      <th>15</th>\n",
       "      <td>P0C6T2</td>\n",
       "      <td>0.948454</td>\n",
       "    </tr>\n",
       "    <tr>\n",
       "      <th>16</th>\n",
       "      <td>Q8TCJ2</td>\n",
       "      <td>0.948619</td>\n",
       "    </tr>\n",
       "    <tr>\n",
       "      <th>17</th>\n",
       "      <td>O75352</td>\n",
       "      <td>0.958583</td>\n",
       "    </tr>\n",
       "    <tr>\n",
       "      <th>18</th>\n",
       "      <td>A6NG13</td>\n",
       "      <td>0.961579</td>\n",
       "    </tr>\n",
       "    <tr>\n",
       "      <th>19</th>\n",
       "      <td>O43299</td>\n",
       "      <td>0.965245</td>\n",
       "    </tr>\n",
       "  </tbody>\n",
       "</table>\n",
       "</div>"
      ],
      "text/plain": [
       "   accession  distance\n",
       "0     P61803  0.801535\n",
       "1     P04843  0.805584\n",
       "2     P04844  0.842708\n",
       "3     P61165  0.887468\n",
       "4     P26572  0.904084\n",
       "5     Q9UM21  0.910343\n",
       "6     Q9UQ53  0.912914\n",
       "7     P39656  0.928890\n",
       "8     Q9H553  0.929999\n",
       "9     Q8N6L1  0.930111\n",
       "10    Q14442  0.934805\n",
       "11    Q9H5V9  0.938053\n",
       "12    O94777  0.941416\n",
       "13    Q9Y2V7  0.943948\n",
       "14    Q9NUD9  0.944001\n",
       "15    P0C6T2  0.948454\n",
       "16    Q8TCJ2  0.948619\n",
       "17    O75352  0.958583\n",
       "18    A6NG13  0.961579\n",
       "19    O43299  0.965245"
      ]
     },
     "execution_count": 6,
     "metadata": {},
     "output_type": "execute_result"
    }
   ],
   "source": [
    "import pandas as pd\n",
    "\n",
    "# Output for description at index 0\n",
    "df = pd.DataFrame(out[0])\n",
    "df"
   ]
  },
  {
   "cell_type": "code",
   "execution_count": null,
   "metadata": {},
   "outputs": [],
   "source": []
  }
 ],
 "metadata": {
  "kernelspec": {
   "display_name": "nl2prot",
   "language": "python",
   "name": "python3"
  },
  "language_info": {
   "codemirror_mode": {
    "name": "ipython",
    "version": 3
   },
   "file_extension": ".py",
   "mimetype": "text/x-python",
   "name": "python",
   "nbconvert_exporter": "python",
   "pygments_lexer": "ipython3",
   "version": "3.12.0"
  },
  "orig_nbformat": 4
 },
 "nbformat": 4,
 "nbformat_minor": 2
}
