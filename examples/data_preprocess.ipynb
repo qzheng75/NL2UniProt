{
 "cells": [
  {
   "cell_type": "code",
   "execution_count": null,
   "metadata": {},
   "outputs": [],
   "source": [
    "from __future__ import annotations\n",
    "\n",
    "%cd ../"
   ]
  },
  {
   "cell_type": "code",
   "execution_count": 2,
   "metadata": {},
   "outputs": [],
   "source": [
    "import requests\n",
    "\n",
    "base_url = \"https://rest.uniprot.org/uniprotkb/search?query=reviewed:true+AND+organism_id:9606&format=tsv\"\n",
    "cols = [\n",
    "    \"accession\",  # Entry\n",
    "    \"id\",  # Entry Name\n",
    "    \"protein_name\",  # Protein names\n",
    "    \"gene_names\",  # Gene Names\n",
    "    \"length\",  # Length\n",
    "    \"cc_pharmaceutical\",  # Pharmaceutical use\n",
    "    \"annotation_score\",  # Annotation\n",
    "    \"go\",  # Gene Ontology (GO)\n",
    "    \"go_f\",  # GO molecular function\n",
    "    \"go_p\",  # GO biological process\n",
    "    \"mass\",  # Mass\n",
    "    \"sequence\",  # Sequence\n",
    "    \"cc_catalytic_activity\",  # Catalytic activity\n",
    "    \"cc_interaction\",  # Interacts with\n",
    "    \"cc_developmental_stage\",  # Developmental stage\n",
    "    \"cc_disease\",  # Involvement in disease\n",
    "    \"ft_mutagen\",  # Mutagenesis\n",
    "    \"cc_biotechnology\",  # Biotechnological use\n",
    "    \"cc_allergen\",  # Allergenic Properties\n",
    "    \"cc_subcellular_location\",  # Subcellular location\n",
    "    \"keyword\",  # Keywords\n",
    "]\n",
    "with_return = base_url + \"&size=200&fields=\" + \",\".join(cols)"
   ]
  },
  {
   "cell_type": "code",
   "execution_count": null,
   "metadata": {},
   "outputs": [],
   "source": [
    "import re\n",
    "import time\n",
    "\n",
    "page_number = 1\n",
    "results_written = 0\n",
    "max_page = 1e5\n",
    "next_url = with_return\n",
    "\n",
    "with open(\"uniprot_results.tsv\", \"w\", encoding=\"utf-8\") as f:\n",
    "    while next_url and page_number < max_page:\n",
    "        try:\n",
    "            # Make the request with headers to get Link header\n",
    "            response = requests.get(next_url)\n",
    "            response.raise_for_status()\n",
    "\n",
    "            # Get the response content\n",
    "            content = response.text\n",
    "\n",
    "            # Write headers only for the first page\n",
    "            if page_number == 1:\n",
    "                f.write(content)\n",
    "            else:\n",
    "                # For subsequent pages, skip the header\n",
    "                lines = content.split(\"\\n\")\n",
    "                if len(lines) > 1:  # Make sure there's data\n",
    "                    f.write(\"\\n\".join(lines[1:]))\n",
    "\n",
    "            # Update results count\n",
    "            results_written += len(content.split(\"\\n\")) - 2  # Subtract 1 for header\n",
    "\n",
    "            # Get the Link header\n",
    "            link_header = response.headers.get(\"Link\", \"\")\n",
    "\n",
    "            # Extract next URL if it exists\n",
    "            next_url = None\n",
    "            if 'rel=\"next\"' in link_header:\n",
    "                # Use regex to extract the URL between < and >\n",
    "                match = re.search(r'<([^>]+)>;\\s*rel=\"next\"', link_header)\n",
    "                if match:\n",
    "                    next_url = match.group(1)\n",
    "\n",
    "            if results_written % 1000 == 0:\n",
    "                print(f\"Processed page {page_number}, Total results: {results_written}\")\n",
    "\n",
    "            # Add a small delay to avoid hitting rate limits\n",
    "            time.sleep(1)\n",
    "            page_number += 1\n",
    "\n",
    "        except requests.exceptions.RequestException as e:\n",
    "            print(f\"Error occurred on page {page_number}: {e}\")\n",
    "            # Implement exponential backoff\n",
    "            retry_delay = min(300, 2 ** (page_number - 1))  # Cap at 5 minutes\n",
    "            print(f\"Retrying in {retry_delay} seconds...\")\n",
    "            time.sleep(retry_delay)\n",
    "            continue\n",
    "\n",
    "        except Exception as e:\n",
    "            print(f\"Unexpected error occurred: {e}\")\n",
    "            break"
   ]
  },
  {
   "cell_type": "code",
   "execution_count": null,
   "metadata": {},
   "outputs": [],
   "source": [
    "import pandas as pd\n",
    "\n",
    "df = pd.read_csv(\"uniprot_results.tsv\", sep=\"\\t\")\n",
    "df.head(2)"
   ]
  },
  {
   "cell_type": "code",
   "execution_count": null,
   "metadata": {},
   "outputs": [],
   "source": [
    "len(df)"
   ]
  },
  {
   "cell_type": "markdown",
   "metadata": {
    "id": "-Zp2tqY7_8y8"
   },
   "source": [
    "# Process catalytic activity feature"
   ]
  },
  {
   "cell_type": "code",
   "execution_count": 6,
   "metadata": {
    "id": "pEGEFKO_9YiI"
   },
   "outputs": [],
   "source": [
    "import re\n",
    "\n",
    "\n",
    "def extract_catalytic_activity_features(activity_string):\n",
    "    # Compile all patterns\n",
    "    if activity_string is None or str(activity_string) == \"nan\":\n",
    "        return {}\n",
    "    patterns = {\n",
    "        \"reaction\": re.compile(r\"Reaction=(.+?);\"),\n",
    "        \"ec\": re.compile(r\"EC=(\\d+\\.\\d+\\.\\d+\\.\\d+);\"),\n",
    "    }\n",
    "\n",
    "    # Extract all features\n",
    "    features = {}\n",
    "    for key, pattern in patterns.items():\n",
    "        match = pattern.search(activity_string)\n",
    "        if match:\n",
    "            features[key] = match.group(1)\n",
    "\n",
    "    return features"
   ]
  },
  {
   "cell_type": "code",
   "execution_count": 7,
   "metadata": {
    "id": "X4zsbGblBvF-"
   },
   "outputs": [],
   "source": [
    "def clean_biotechnology_text(text):\n",
    "    if str(text) == \"nan\":\n",
    "        return \"Not Available\"\n",
    "    # Remove \"BIOTECHNOLOGY: \" prefix and trailing \"{ECO:...}\"\n",
    "    pattern = r\"^BIOTECHNOLOGY:\\s*(.*?)\\s*\\{ECO:.*\\}\\.?$\"\n",
    "    match = re.search(pattern, text, re.DOTALL)\n",
    "    if match:\n",
    "        return match.group(1).strip()\n",
    "    return text"
   ]
  },
  {
   "cell_type": "code",
   "execution_count": 8,
   "metadata": {
    "id": "QPIDOWGrEeMp"
   },
   "outputs": [],
   "source": [
    "def clean_subcellular_location(text):\n",
    "    if str(text) == \"nan\":\n",
    "        return \"Not Available\"\n",
    "    text = re.sub(r\"^SUBCELLULAR LOCATION:\\s*\", \"\", text)\n",
    "    text = re.sub(r\"\\{[^}]*\\}\", \"\", text)\n",
    "    text = re.sub(r\"\\s+\", \" \", text)\n",
    "    text = re.sub(r\"\\.\\s*\\.\", \".\", text)\n",
    "    text = text.replace(\".\", \";\").replace(\" ;\", \";\").strip().rstrip(\".\")\n",
    "    return text"
   ]
  },
  {
   "cell_type": "code",
   "execution_count": 9,
   "metadata": {
    "id": "XGN_37YhGDG0"
   },
   "outputs": [],
   "source": [
    "def clean_go_terms(text):\n",
    "    if str(text) == \"nan\":\n",
    "        return \"Not Available\"\n",
    "    cleaned_text = re.sub(r\"\\s*\\[GO:\\d+\\]\", \"\", text)\n",
    "    terms = [term.strip() for term in cleaned_text.split(\";\")]\n",
    "    return \"; \".join(terms)"
   ]
  },
  {
   "cell_type": "code",
   "execution_count": 10,
   "metadata": {
    "id": "2_Rgf1SQG_NC"
   },
   "outputs": [],
   "source": [
    "all_entry_names = set(df[\"Entry\"])\n",
    "\n",
    "\n",
    "def clean_interaction_text(text):\n",
    "    if str(text) == \"nan\":\n",
    "        return \"Not Available\"\n",
    "    process_s = \"; \".join([s for s in text.split(\"; \") if s in all_entry_names])\n",
    "    return process_s.rstrip(\"; \")"
   ]
  },
  {
   "cell_type": "code",
   "execution_count": 11,
   "metadata": {
    "id": "WgunvUf6FoRI"
   },
   "outputs": [],
   "source": [
    "def clean_development_text(text):\n",
    "    if str(text) == \"nan\":\n",
    "        return \"Not Available\"\n",
    "    pattern = r\"DEVELOPMENTAL STAGE:\\s*(.*?)\\s*\\{ECO:.*\\}\\.\"\n",
    "    match = re.search(pattern, text)\n",
    "    if match:\n",
    "        return match.group(1).strip()\n",
    "    return text"
   ]
  },
  {
   "cell_type": "code",
   "execution_count": 12,
   "metadata": {
    "id": "Oy-Fr9e5NvbQ"
   },
   "outputs": [],
   "source": [
    "def parse_mutagen_entries(text):\n",
    "    if text is None or str(text) == \"nan\":\n",
    "        return []\n",
    "    entries = re.split(r\"MUTAGEN\\s+\", text)\n",
    "    entries = [entry.strip() for entry in entries if entry.strip()]\n",
    "\n",
    "    parsed_entries = []\n",
    "    for entry in entries:\n",
    "        position_match = re.match(r\"(\\d+\\.\\.\\d+);\", entry)\n",
    "        note_match = re.search(r'/note=\"([^\"]+)\"', entry)\n",
    "\n",
    "        if position_match and note_match:\n",
    "            position = position_match.group(1)\n",
    "            note = note_match.group(1)\n",
    "            parsed_entries.append({\"mutagen\": position, \"note\": note})\n",
    "\n",
    "    return parsed_entries"
   ]
  },
  {
   "cell_type": "code",
   "execution_count": 13,
   "metadata": {
    "id": "hOybHjvjNx6m"
   },
   "outputs": [],
   "source": [
    "df[\"Catalytic activity\"] = df[\"Catalytic activity\"].apply(\n",
    "    extract_catalytic_activity_features\n",
    ")\n",
    "df[\"Gene Ontology (biological process)\"] = df[\n",
    "    \"Gene Ontology (biological process)\"\n",
    "].replace(float(\"nan\"), \"Not Available\")\n",
    "df[\"Biotechnological use\"] = df[\"Biotechnological use\"].apply(clean_biotechnology_text)\n",
    "df[\"Involvement in disease\"] = df[\"Involvement in disease\"].replace(\n",
    "    float(\"nan\"), \"Not Available\"\n",
    ")\n",
    "df[\"Allergenic Properties\"] = df[\"Allergenic Properties\"].replace(\n",
    "    float(\"nan\"), \"Not Available\"\n",
    ")\n",
    "df[\"Pharmaceutical use\"] = df[\"Pharmaceutical use\"].replace(\n",
    "    float(\"nan\"), \"Not Available\"\n",
    ")\n",
    "df[\"Subcellular location [CC]\"] = df[\"Subcellular location [CC]\"].apply(\n",
    "    clean_subcellular_location\n",
    ")\n",
    "df[\"Gene Ontology (GO)\"] = df[\"Gene Ontology (GO)\"].apply(clean_go_terms)\n",
    "df[\"Gene Ontology (molecular function)\"] = df[\n",
    "    \"Gene Ontology (molecular function)\"\n",
    "].apply(clean_go_terms)\n",
    "df[\"Interacts with\"] = df[\"Interacts with\"].apply(clean_interaction_text)\n",
    "df[\"Developmental stage\"] = df[\"Developmental stage\"].apply(clean_development_text)\n",
    "df[\"Mutagenesis\"] = df[\"Mutagenesis\"].apply(parse_mutagen_entries)\n",
    "df = df[df[\"Annotation\"] >= 4].drop(columns=[\"Annotation\"])\n",
    "df = df[df[\"Sequence\"].str.len() <= 1022]"
   ]
  },
  {
   "cell_type": "code",
   "execution_count": 14,
   "metadata": {
    "id": "DmFRqXbRRTrc"
   },
   "outputs": [],
   "source": [
    "df.to_csv(\"raw_data/new_uniprot_processed.tsv\", sep=\"\\t\", index=False)"
   ]
  },
  {
   "cell_type": "code",
   "execution_count": null,
   "metadata": {},
   "outputs": [],
   "source": [
    "len(df)"
   ]
  },
  {
   "cell_type": "code",
   "execution_count": null,
   "metadata": {},
   "outputs": [],
   "source": [
    "%cd ../\n",
    "\n",
    "import pandas as pd\n",
    "\n",
    "df = pd.read_csv(\"raw_data/new_uniprot_processed.tsv\", sep=\"\\t\")\n",
    "df.head(2)"
   ]
  },
  {
   "cell_type": "code",
   "execution_count": 2,
   "metadata": {},
   "outputs": [],
   "source": [
    "names = df[\"Entry\"].tolist()\n",
    "sequences = df[\"Sequence\"].tolist()"
   ]
  },
  {
   "cell_type": "code",
   "execution_count": null,
   "metadata": {},
   "outputs": [],
   "source": [
    "from nl2prot.data.utils import write_fasta\n",
    "\n",
    "write_fasta(names, sequences, \"raw_data/uniprot.fasta\")"
   ]
  },
  {
   "cell_type": "code",
   "execution_count": null,
   "metadata": {},
   "outputs": [],
   "source": []
  }
 ],
 "metadata": {
  "accelerator": "GPU",
  "colab": {
   "gpuType": "T4",
   "provenance": []
  },
  "kernelspec": {
   "display_name": "nl2prot",
   "language": "python",
   "name": "python3"
  },
  "language_info": {
   "codemirror_mode": {
    "name": "ipython",
    "version": 3
   },
   "file_extension": ".py",
   "mimetype": "text/x-python",
   "name": "python",
   "nbconvert_exporter": "python",
   "pygments_lexer": "ipython3",
   "version": "3.12.0"
  },
  "widgets": {
   "application/vnd.jupyter.widget-state+json": {
    "45294ef76ed74a20b44c2ca8585f4c0f": {
     "model_module": "@jupyter-widgets/base",
     "model_module_version": "1.2.0",
     "model_name": "LayoutModel",
     "state": {
      "_model_module": "@jupyter-widgets/base",
      "_model_module_version": "1.2.0",
      "_model_name": "LayoutModel",
      "_view_count": null,
      "_view_module": "@jupyter-widgets/base",
      "_view_module_version": "1.2.0",
      "_view_name": "LayoutView",
      "align_content": null,
      "align_items": null,
      "align_self": null,
      "border": null,
      "bottom": null,
      "display": null,
      "flex": null,
      "flex_flow": null,
      "grid_area": null,
      "grid_auto_columns": null,
      "grid_auto_flow": null,
      "grid_auto_rows": null,
      "grid_column": null,
      "grid_gap": null,
      "grid_row": null,
      "grid_template_areas": null,
      "grid_template_columns": null,
      "grid_template_rows": null,
      "height": null,
      "justify_content": null,
      "justify_items": null,
      "left": null,
      "margin": null,
      "max_height": null,
      "max_width": null,
      "min_height": null,
      "min_width": null,
      "object_fit": null,
      "object_position": null,
      "order": null,
      "overflow": null,
      "overflow_x": null,
      "overflow_y": null,
      "padding": null,
      "right": null,
      "top": null,
      "visibility": null,
      "width": null
     }
    },
    "5b6d68cb50c04863b899b1129a33f3b0": {
     "model_module": "@jupyter-widgets/controls",
     "model_module_version": "1.5.0",
     "model_name": "HTMLModel",
     "state": {
      "_dom_classes": [],
      "_model_module": "@jupyter-widgets/controls",
      "_model_module_version": "1.5.0",
      "_model_name": "HTMLModel",
      "_view_count": null,
      "_view_module": "@jupyter-widgets/controls",
      "_view_module_version": "1.5.0",
      "_view_name": "HTMLView",
      "description": "",
      "description_tooltip": null,
      "layout": "IPY_MODEL_68600a8d79d04eb5a9d4af09a41db7d6",
      "placeholder": "​",
      "style": "IPY_MODEL_f81e3ae9f2ed4dd38fcd034e366d920b",
      "value": " 2/2 [01:11&lt;00:00, 34.25s/it]"
     }
    },
    "66a4f09fc92e469c8b270352e821e5f4": {
     "model_module": "@jupyter-widgets/controls",
     "model_module_version": "1.5.0",
     "model_name": "HBoxModel",
     "state": {
      "_dom_classes": [],
      "_model_module": "@jupyter-widgets/controls",
      "_model_module_version": "1.5.0",
      "_model_name": "HBoxModel",
      "_view_count": null,
      "_view_module": "@jupyter-widgets/controls",
      "_view_module_version": "1.5.0",
      "_view_name": "HBoxView",
      "box_style": "",
      "children": [
       "IPY_MODEL_fd97f88c783c44709da578438a0b5ecc",
       "IPY_MODEL_cee726aaa42f4c77aa139aad65e41ba3",
       "IPY_MODEL_5b6d68cb50c04863b899b1129a33f3b0"
      ],
      "layout": "IPY_MODEL_f178085e4d2144f4a551b73e2c75fb57"
     }
    },
    "68600a8d79d04eb5a9d4af09a41db7d6": {
     "model_module": "@jupyter-widgets/base",
     "model_module_version": "1.2.0",
     "model_name": "LayoutModel",
     "state": {
      "_model_module": "@jupyter-widgets/base",
      "_model_module_version": "1.2.0",
      "_model_name": "LayoutModel",
      "_view_count": null,
      "_view_module": "@jupyter-widgets/base",
      "_view_module_version": "1.2.0",
      "_view_name": "LayoutView",
      "align_content": null,
      "align_items": null,
      "align_self": null,
      "border": null,
      "bottom": null,
      "display": null,
      "flex": null,
      "flex_flow": null,
      "grid_area": null,
      "grid_auto_columns": null,
      "grid_auto_flow": null,
      "grid_auto_rows": null,
      "grid_column": null,
      "grid_gap": null,
      "grid_row": null,
      "grid_template_areas": null,
      "grid_template_columns": null,
      "grid_template_rows": null,
      "height": null,
      "justify_content": null,
      "justify_items": null,
      "left": null,
      "margin": null,
      "max_height": null,
      "max_width": null,
      "min_height": null,
      "min_width": null,
      "object_fit": null,
      "object_position": null,
      "order": null,
      "overflow": null,
      "overflow_x": null,
      "overflow_y": null,
      "padding": null,
      "right": null,
      "top": null,
      "visibility": null,
      "width": null
     }
    },
    "a90c765ad31045458fa4e6725fe6cd64": {
     "model_module": "@jupyter-widgets/controls",
     "model_module_version": "1.5.0",
     "model_name": "ProgressStyleModel",
     "state": {
      "_model_module": "@jupyter-widgets/controls",
      "_model_module_version": "1.5.0",
      "_model_name": "ProgressStyleModel",
      "_view_count": null,
      "_view_module": "@jupyter-widgets/base",
      "_view_module_version": "1.2.0",
      "_view_name": "StyleView",
      "bar_color": null,
      "description_width": ""
     }
    },
    "bb4762dd90824ea0b2915f733648538e": {
     "model_module": "@jupyter-widgets/base",
     "model_module_version": "1.2.0",
     "model_name": "LayoutModel",
     "state": {
      "_model_module": "@jupyter-widgets/base",
      "_model_module_version": "1.2.0",
      "_model_name": "LayoutModel",
      "_view_count": null,
      "_view_module": "@jupyter-widgets/base",
      "_view_module_version": "1.2.0",
      "_view_name": "LayoutView",
      "align_content": null,
      "align_items": null,
      "align_self": null,
      "border": null,
      "bottom": null,
      "display": null,
      "flex": null,
      "flex_flow": null,
      "grid_area": null,
      "grid_auto_columns": null,
      "grid_auto_flow": null,
      "grid_auto_rows": null,
      "grid_column": null,
      "grid_gap": null,
      "grid_row": null,
      "grid_template_areas": null,
      "grid_template_columns": null,
      "grid_template_rows": null,
      "height": null,
      "justify_content": null,
      "justify_items": null,
      "left": null,
      "margin": null,
      "max_height": null,
      "max_width": null,
      "min_height": null,
      "min_width": null,
      "object_fit": null,
      "object_position": null,
      "order": null,
      "overflow": null,
      "overflow_x": null,
      "overflow_y": null,
      "padding": null,
      "right": null,
      "top": null,
      "visibility": null,
      "width": null
     }
    },
    "bdc15505fa88452e98dcb1c5b326652e": {
     "model_module": "@jupyter-widgets/controls",
     "model_module_version": "1.5.0",
     "model_name": "DescriptionStyleModel",
     "state": {
      "_model_module": "@jupyter-widgets/controls",
      "_model_module_version": "1.5.0",
      "_model_name": "DescriptionStyleModel",
      "_view_count": null,
      "_view_module": "@jupyter-widgets/base",
      "_view_module_version": "1.2.0",
      "_view_name": "StyleView",
      "description_width": ""
     }
    },
    "cee726aaa42f4c77aa139aad65e41ba3": {
     "model_module": "@jupyter-widgets/controls",
     "model_module_version": "1.5.0",
     "model_name": "FloatProgressModel",
     "state": {
      "_dom_classes": [],
      "_model_module": "@jupyter-widgets/controls",
      "_model_module_version": "1.5.0",
      "_model_name": "FloatProgressModel",
      "_view_count": null,
      "_view_module": "@jupyter-widgets/controls",
      "_view_module_version": "1.5.0",
      "_view_name": "ProgressView",
      "bar_style": "success",
      "description": "",
      "description_tooltip": null,
      "layout": "IPY_MODEL_45294ef76ed74a20b44c2ca8585f4c0f",
      "max": 2,
      "min": 0,
      "orientation": "horizontal",
      "style": "IPY_MODEL_a90c765ad31045458fa4e6725fe6cd64",
      "value": 2
     }
    },
    "f178085e4d2144f4a551b73e2c75fb57": {
     "model_module": "@jupyter-widgets/base",
     "model_module_version": "1.2.0",
     "model_name": "LayoutModel",
     "state": {
      "_model_module": "@jupyter-widgets/base",
      "_model_module_version": "1.2.0",
      "_model_name": "LayoutModel",
      "_view_count": null,
      "_view_module": "@jupyter-widgets/base",
      "_view_module_version": "1.2.0",
      "_view_name": "LayoutView",
      "align_content": null,
      "align_items": null,
      "align_self": null,
      "border": null,
      "bottom": null,
      "display": null,
      "flex": null,
      "flex_flow": null,
      "grid_area": null,
      "grid_auto_columns": null,
      "grid_auto_flow": null,
      "grid_auto_rows": null,
      "grid_column": null,
      "grid_gap": null,
      "grid_row": null,
      "grid_template_areas": null,
      "grid_template_columns": null,
      "grid_template_rows": null,
      "height": null,
      "justify_content": null,
      "justify_items": null,
      "left": null,
      "margin": null,
      "max_height": null,
      "max_width": null,
      "min_height": null,
      "min_width": null,
      "object_fit": null,
      "object_position": null,
      "order": null,
      "overflow": null,
      "overflow_x": null,
      "overflow_y": null,
      "padding": null,
      "right": null,
      "top": null,
      "visibility": null,
      "width": null
     }
    },
    "f81e3ae9f2ed4dd38fcd034e366d920b": {
     "model_module": "@jupyter-widgets/controls",
     "model_module_version": "1.5.0",
     "model_name": "DescriptionStyleModel",
     "state": {
      "_model_module": "@jupyter-widgets/controls",
      "_model_module_version": "1.5.0",
      "_model_name": "DescriptionStyleModel",
      "_view_count": null,
      "_view_module": "@jupyter-widgets/base",
      "_view_module_version": "1.2.0",
      "_view_name": "StyleView",
      "description_width": ""
     }
    },
    "fd97f88c783c44709da578438a0b5ecc": {
     "model_module": "@jupyter-widgets/controls",
     "model_module_version": "1.5.0",
     "model_name": "HTMLModel",
     "state": {
      "_dom_classes": [],
      "_model_module": "@jupyter-widgets/controls",
      "_model_module_version": "1.5.0",
      "_model_name": "HTMLModel",
      "_view_count": null,
      "_view_module": "@jupyter-widgets/controls",
      "_view_module_version": "1.5.0",
      "_view_name": "HTMLView",
      "description": "",
      "description_tooltip": null,
      "layout": "IPY_MODEL_bb4762dd90824ea0b2915f733648538e",
      "placeholder": "​",
      "style": "IPY_MODEL_bdc15505fa88452e98dcb1c5b326652e",
      "value": "Loading checkpoint shards: 100%"
     }
    }
   }
  }
 },
 "nbformat": 4,
 "nbformat_minor": 1
}
